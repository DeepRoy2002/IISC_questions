{
 "cells": [
  {
   "cell_type": "code",
   "execution_count": 1,
   "id": "40debb6f",
   "metadata": {},
   "outputs": [],
   "source": [
    "import os\n",
    "import csv\n",
    "import zipfile\n",
    "\n",
    "# Step 1: Unzip the data.zip file\n",
    "with zipfile.ZipFile('data.zip', 'r') as zip_ref:\n",
    "    zip_ref.extractall('.')\n",
    "\n",
    "# Step 2: Create a CSV file and write headers\n",
    "csv_filename = 'bbc_articles.csv'\n",
    "with open(csv_filename, 'w', newline='', encoding='utf-8') as csvfile:\n",
    "    writer = csv.writer(csvfile)\n",
    "    writer.writerow(['article_id', 'text', 'category'])\n",
    "\n",
    "# Step 3: Read text files and write to CSV\n",
    "articles_folder = 'BBC_articles'\n",
    "for filename in os.listdir(articles_folder):\n",
    "    if filename.endswith('.txt'):\n",
    "        article_id, category = filename.split('_')\n",
    "        with open(os.path.join(articles_folder, filename), 'r', encoding='utf-8') as file:\n",
    "            text = file.read()\n",
    "            with open(csv_filename, 'a', newline='', encoding='utf-8') as csvfile:\n",
    "                writer = csv.writer(csvfile)\n",
    "                writer.writerow([article_id, text, category])\n"
   ]
  },
  {
   "cell_type": "code",
   "execution_count": 5,
   "id": "9cd276d5",
   "metadata": {},
   "outputs": [],
   "source": [
    "import numpy as np\n",
    "import pandas as pd\n",
    "import matplotlib.pyplot as plt\n",
    "\n",
    "df=pd.read_csv('bbc_articles.csv')"
   ]
  },
  {
   "cell_type": "code",
   "execution_count": 6,
   "id": "3ab0a47c",
   "metadata": {},
   "outputs": [
    {
     "data": {
      "text/html": [
       "<div>\n",
       "<style scoped>\n",
       "    .dataframe tbody tr th:only-of-type {\n",
       "        vertical-align: middle;\n",
       "    }\n",
       "\n",
       "    .dataframe tbody tr th {\n",
       "        vertical-align: top;\n",
       "    }\n",
       "\n",
       "    .dataframe thead th {\n",
       "        text-align: right;\n",
       "    }\n",
       "</style>\n",
       "<table border=\"1\" class=\"dataframe\">\n",
       "  <thead>\n",
       "    <tr style=\"text-align: right;\">\n",
       "      <th></th>\n",
       "      <th>article_id</th>\n",
       "      <th>text</th>\n",
       "      <th>category</th>\n",
       "    </tr>\n",
       "  </thead>\n",
       "  <tbody>\n",
       "    <tr>\n",
       "      <th>0</th>\n",
       "      <td>1003</td>\n",
       "      <td>jamelia s return to the top r&amp;b star jamelia h...</td>\n",
       "      <td>entertainment.txt</td>\n",
       "    </tr>\n",
       "    <tr>\n",
       "      <th>1</th>\n",
       "      <td>1004</td>\n",
       "      <td>microsoft releases bumper patches microsoft ha...</td>\n",
       "      <td>tech.txt</td>\n",
       "    </tr>\n",
       "    <tr>\n",
       "      <th>2</th>\n",
       "      <td>1005</td>\n",
       "      <td>critics back aviator for oscars martin scorses...</td>\n",
       "      <td>entertainment.txt</td>\n",
       "    </tr>\n",
       "    <tr>\n",
       "      <th>3</th>\n",
       "      <td>1007</td>\n",
       "      <td>winemaker rejects foster s offer australian wi...</td>\n",
       "      <td>business.txt</td>\n",
       "    </tr>\n",
       "    <tr>\n",
       "      <th>4</th>\n",
       "      <td>1008</td>\n",
       "      <td>child access law shake-up planned parents who ...</td>\n",
       "      <td>politics.txt</td>\n",
       "    </tr>\n",
       "    <tr>\n",
       "      <th>...</th>\n",
       "      <td>...</td>\n",
       "      <td>...</td>\n",
       "      <td>...</td>\n",
       "    </tr>\n",
       "    <tr>\n",
       "      <th>1485</th>\n",
       "      <td>992</td>\n",
       "      <td>china s shanda buys stake in sina chinese onli...</td>\n",
       "      <td>business.txt</td>\n",
       "    </tr>\n",
       "    <tr>\n",
       "      <th>1486</th>\n",
       "      <td>993</td>\n",
       "      <td>concern over rfid tags consumers are very conc...</td>\n",
       "      <td>tech.txt</td>\n",
       "    </tr>\n",
       "    <tr>\n",
       "      <th>1487</th>\n",
       "      <td>995</td>\n",
       "      <td>jones medals  must go if guilty  world anti-do...</td>\n",
       "      <td>sport.txt</td>\n",
       "    </tr>\n",
       "    <tr>\n",
       "      <th>1488</th>\n",
       "      <td>997</td>\n",
       "      <td>benitez joy as reds take control liverpool bos...</td>\n",
       "      <td>sport.txt</td>\n",
       "    </tr>\n",
       "    <tr>\n",
       "      <th>1489</th>\n",
       "      <td>998</td>\n",
       "      <td>rap boss arrested over drug find rap mogul mar...</td>\n",
       "      <td>entertainment.txt</td>\n",
       "    </tr>\n",
       "  </tbody>\n",
       "</table>\n",
       "<p>1490 rows × 3 columns</p>\n",
       "</div>"
      ],
      "text/plain": [
       "      article_id                                               text  \\\n",
       "0           1003  jamelia s return to the top r&b star jamelia h...   \n",
       "1           1004  microsoft releases bumper patches microsoft ha...   \n",
       "2           1005  critics back aviator for oscars martin scorses...   \n",
       "3           1007  winemaker rejects foster s offer australian wi...   \n",
       "4           1008  child access law shake-up planned parents who ...   \n",
       "...          ...                                                ...   \n",
       "1485         992  china s shanda buys stake in sina chinese onli...   \n",
       "1486         993  concern over rfid tags consumers are very conc...   \n",
       "1487         995  jones medals  must go if guilty  world anti-do...   \n",
       "1488         997  benitez joy as reds take control liverpool bos...   \n",
       "1489         998  rap boss arrested over drug find rap mogul mar...   \n",
       "\n",
       "               category  \n",
       "0     entertainment.txt  \n",
       "1              tech.txt  \n",
       "2     entertainment.txt  \n",
       "3          business.txt  \n",
       "4          politics.txt  \n",
       "...                 ...  \n",
       "1485       business.txt  \n",
       "1486           tech.txt  \n",
       "1487          sport.txt  \n",
       "1488          sport.txt  \n",
       "1489  entertainment.txt  \n",
       "\n",
       "[1490 rows x 3 columns]"
      ]
     },
     "execution_count": 6,
     "metadata": {},
     "output_type": "execute_result"
    }
   ],
   "source": [
    "df"
   ]
  },
  {
   "cell_type": "code",
   "execution_count": 7,
   "id": "5e0c2f64",
   "metadata": {},
   "outputs": [],
   "source": [
    "import nltk\n",
    "from nltk.tokenize import word_tokenize\n",
    "from nltk.corpus import stopwords\n",
    "from nltk.stem import PorterStemmer\n",
    "from sklearn.feature_extraction.text import TfidfVectorizer\n",
    "import string"
   ]
  },
  {
   "cell_type": "code",
   "execution_count": 8,
   "id": "e87282c9",
   "metadata": {},
   "outputs": [
    {
     "name": "stderr",
     "output_type": "stream",
     "text": [
      "[nltk_data] Downloading package punkt to\n",
      "[nltk_data]     C:\\Users\\anirb\\AppData\\Roaming\\nltk_data...\n",
      "[nltk_data]   Package punkt is already up-to-date!\n",
      "[nltk_data] Downloading package stopwords to\n",
      "[nltk_data]     C:\\Users\\anirb\\AppData\\Roaming\\nltk_data...\n",
      "[nltk_data]   Package stopwords is already up-to-date!\n"
     ]
    }
   ],
   "source": [
    "nltk.download('punkt')\n",
    "nltk.download('stopwords')\n",
    "stop_words = set(stopwords.words('english'))\n",
    "ps = PorterStemmer()"
   ]
  },
  {
   "cell_type": "code",
   "execution_count": 9,
   "id": "dd3c675b",
   "metadata": {},
   "outputs": [],
   "source": [
    "def preprocess_text(text):\n",
    "    # Tokenization\n",
    "    tokens = word_tokenize(text)\n",
    "    # Lowercasing, removing punctuation and stopwords, and stemming\n",
    "    tokens = [ps.stem(token.lower()) for token in tokens if token.isalpha() and token.lower() not in stop_words]\n",
    "    return ' '.join(tokens)"
   ]
  },
  {
   "cell_type": "code",
   "execution_count": 10,
   "id": "d398bc33",
   "metadata": {},
   "outputs": [],
   "source": [
    "df['processed_text'] = df['text'].apply(preprocess_text)\n",
    "\n",
    "# Step 3: Vectorize the text using TF-IDF\n",
    "tfidf_vectorizer = TfidfVectorizer()\n",
    "tfidf_features = tfidf_vectorizer.fit_transform(df['processed_text'])"
   ]
  },
  {
   "cell_type": "code",
   "execution_count": 11,
   "id": "05b868b0",
   "metadata": {},
   "outputs": [
    {
     "name": "stderr",
     "output_type": "stream",
     "text": [
      "C:\\Users\\anirb\\anaconda3\\lib\\site-packages\\sklearn\\utils\\deprecation.py:87: FutureWarning: Function get_feature_names is deprecated; get_feature_names is deprecated in 1.0 and will be removed in 1.2. Please use get_feature_names_out instead.\n",
      "  warnings.warn(msg, category=FutureWarning)\n"
     ]
    }
   ],
   "source": [
    "# Step 4: Combine numerical features with category labels\n",
    "features_df = pd.DataFrame(tfidf_features.toarray(), columns=tfidf_vectorizer.get_feature_names())\n",
    "features_df['category'] = df['category']\n",
    "\n",
    "# Step 5: Write the new CSV file\n",
    "features_df.to_csv('bbc_articles_numerical_features.csv', index=False)"
   ]
  },
  {
   "cell_type": "code",
   "execution_count": 12,
   "id": "0c4dcd87",
   "metadata": {},
   "outputs": [
    {
     "data": {
      "text/plain": [
       "(1490, 15723)"
      ]
     },
     "execution_count": 12,
     "metadata": {},
     "output_type": "execute_result"
    }
   ],
   "source": [
    "pd.read_csv('bbc_articles_numerical_features.csv').shape"
   ]
  },
  {
   "cell_type": "code",
   "execution_count": 14,
   "id": "cfde673a",
   "metadata": {},
   "outputs": [
    {
     "data": {
      "text/plain": [
       "<bound method DataFrame.info of        aa  aaa  aac  aadc  aaliyah  aaltra  aamir  aaron  abacu  abandon  ...  \\\n",
       "0     0.0  0.0  0.0   0.0      0.0     0.0    0.0    0.0    0.0      0.0  ...   \n",
       "1     0.0  0.0  0.0   0.0      0.0     0.0    0.0    0.0    0.0      0.0  ...   \n",
       "2     0.0  0.0  0.0   0.0      0.0     0.0    0.0    0.0    0.0      0.0  ...   \n",
       "3     0.0  0.0  0.0   0.0      0.0     0.0    0.0    0.0    0.0      0.0  ...   \n",
       "4     0.0  0.0  0.0   0.0      0.0     0.0    0.0    0.0    0.0      0.0  ...   \n",
       "...   ...  ...  ...   ...      ...     ...    ...    ...    ...      ...  ...   \n",
       "1485  0.0  0.0  0.0   0.0      0.0     0.0    0.0    0.0    0.0      0.0  ...   \n",
       "1486  0.0  0.0  0.0   0.0      0.0     0.0    0.0    0.0    0.0      0.0  ...   \n",
       "1487  0.0  0.0  0.0   0.0      0.0     0.0    0.0    0.0    0.0      0.0  ...   \n",
       "1488  0.0  0.0  0.0   0.0      0.0     0.0    0.0    0.0    0.0      0.0  ...   \n",
       "1489  0.0  0.0  0.0   0.0      0.0     0.0    0.0    0.0    0.0      0.0  ...   \n",
       "\n",
       "      zone  zonealarm  zoom  zooropa  zorro  zuluaga  zurich  zuton  \\\n",
       "0      0.0        0.0   0.0      0.0    0.0      0.0     0.0    0.0   \n",
       "1      0.0        0.0   0.0      0.0    0.0      0.0     0.0    0.0   \n",
       "2      0.0        0.0   0.0      0.0    0.0      0.0     0.0    0.0   \n",
       "3      0.0        0.0   0.0      0.0    0.0      0.0     0.0    0.0   \n",
       "4      0.0        0.0   0.0      0.0    0.0      0.0     0.0    0.0   \n",
       "...    ...        ...   ...      ...    ...      ...     ...    ...   \n",
       "1485   0.0        0.0   0.0      0.0    0.0      0.0     0.0    0.0   \n",
       "1486   0.0        0.0   0.0      0.0    0.0      0.0     0.0    0.0   \n",
       "1487   0.0        0.0   0.0      0.0    0.0      0.0     0.0    0.0   \n",
       "1488   0.0        0.0   0.0      0.0    0.0      0.0     0.0    0.0   \n",
       "1489   0.0        0.0   0.0      0.0    0.0      0.0     0.0    0.0   \n",
       "\n",
       "      zvonareva           category  \n",
       "0           0.0  entertainment.txt  \n",
       "1           0.0           tech.txt  \n",
       "2           0.0  entertainment.txt  \n",
       "3           0.0       business.txt  \n",
       "4           0.0       politics.txt  \n",
       "...         ...                ...  \n",
       "1485        0.0       business.txt  \n",
       "1486        0.0           tech.txt  \n",
       "1487        0.0          sport.txt  \n",
       "1488        0.0          sport.txt  \n",
       "1489        0.0  entertainment.txt  \n",
       "\n",
       "[1490 rows x 15723 columns]>"
      ]
     },
     "execution_count": 14,
     "metadata": {},
     "output_type": "execute_result"
    }
   ],
   "source": [
    "pd.read_csv('bbc_articles_numerical_features.csv').info"
   ]
  },
  {
   "cell_type": "code",
   "execution_count": null,
   "id": "700f6665",
   "metadata": {},
   "outputs": [],
   "source": []
  }
 ],
 "metadata": {
  "kernelspec": {
   "display_name": "Python 3 (ipykernel)",
   "language": "python",
   "name": "python3"
  },
  "language_info": {
   "codemirror_mode": {
    "name": "ipython",
    "version": 3
   },
   "file_extension": ".py",
   "mimetype": "text/x-python",
   "name": "python",
   "nbconvert_exporter": "python",
   "pygments_lexer": "ipython3",
   "version": "3.9.12"
  }
 },
 "nbformat": 4,
 "nbformat_minor": 5
}
